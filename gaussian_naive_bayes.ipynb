{
 "cells": [
  {
   "attachments": {},
   "cell_type": "markdown",
   "metadata": {},
   "source": [
    "# Assignment 1 - Naive Bayes"
   ]
  },
  {
   "attachments": {},
   "cell_type": "markdown",
   "metadata": {},
   "source": [
    "## a) Data Preparation"
   ]
  },
  {
   "attachments": {},
   "cell_type": "markdown",
   "metadata": {},
   "source": [
    "Let's first import all the libraries we need."
   ]
  },
  {
   "cell_type": "code",
   "execution_count": 1,
   "metadata": {},
   "outputs": [],
   "source": [
    "import pandas as pd\n",
    "import numpy as np\n",
    "import matplotlib.pyplot as plt"
   ]
  },
  {
   "attachments": {},
   "cell_type": "markdown",
   "metadata": {},
   "source": [
    "Open the iris database.\n"
   ]
  },
  {
   "cell_type": "code",
   "execution_count": 2,
   "metadata": {},
   "outputs": [
    {
     "data": {
      "text/html": [
       "<div>\n",
       "<style scoped>\n",
       "    .dataframe tbody tr th:only-of-type {\n",
       "        vertical-align: middle;\n",
       "    }\n",
       "\n",
       "    .dataframe tbody tr th {\n",
       "        vertical-align: top;\n",
       "    }\n",
       "\n",
       "    .dataframe thead th {\n",
       "        text-align: right;\n",
       "    }\n",
       "</style>\n",
       "<table border=\"1\" class=\"dataframe\">\n",
       "  <thead>\n",
       "    <tr style=\"text-align: right;\">\n",
       "      <th></th>\n",
       "      <th>sepal length</th>\n",
       "      <th>sepal width</th>\n",
       "      <th>petal length</th>\n",
       "      <th>petal width</th>\n",
       "      <th>class</th>\n",
       "    </tr>\n",
       "  </thead>\n",
       "  <tbody>\n",
       "    <tr>\n",
       "      <th>0</th>\n",
       "      <td>r</td>\n",
       "      <td>r</td>\n",
       "      <td>r</td>\n",
       "      <td>r</td>\n",
       "      <td>n</td>\n",
       "    </tr>\n",
       "    <tr>\n",
       "      <th>1</th>\n",
       "      <td>5.1</td>\n",
       "      <td>3.5</td>\n",
       "      <td>1.4</td>\n",
       "      <td>0.2</td>\n",
       "      <td>Iris-setosa</td>\n",
       "    </tr>\n",
       "    <tr>\n",
       "      <th>2</th>\n",
       "      <td>4.9</td>\n",
       "      <td>3.0</td>\n",
       "      <td>1.4</td>\n",
       "      <td>0.2</td>\n",
       "      <td>Iris-setosa</td>\n",
       "    </tr>\n",
       "    <tr>\n",
       "      <th>3</th>\n",
       "      <td>4.7</td>\n",
       "      <td>3.2</td>\n",
       "      <td>1.3</td>\n",
       "      <td>0.2</td>\n",
       "      <td>Iris-setosa</td>\n",
       "    </tr>\n",
       "    <tr>\n",
       "      <th>4</th>\n",
       "      <td>4.6</td>\n",
       "      <td>3.1</td>\n",
       "      <td>1.5</td>\n",
       "      <td>0.2</td>\n",
       "      <td>Iris-setosa</td>\n",
       "    </tr>\n",
       "  </tbody>\n",
       "</table>\n",
       "</div>"
      ],
      "text/plain": [
       "  sepal length sepal width petal length petal width        class\n",
       "0            r           r            r           r            n\n",
       "1          5.1         3.5          1.4         0.2  Iris-setosa\n",
       "2          4.9         3.0          1.4         0.2  Iris-setosa\n",
       "3          4.7         3.2          1.3         0.2  Iris-setosa\n",
       "4          4.6         3.1          1.5         0.2  Iris-setosa"
      ]
     },
     "execution_count": 2,
     "metadata": {},
     "output_type": "execute_result"
    }
   ],
   "source": [
    "# Open Iris data\n",
    "iris = pd.read_csv(\"iris.tmls\")\n",
    "iris.head()"
   ]
  },
  {
   "attachments": {},
   "cell_type": "markdown",
   "metadata": {},
   "source": [
    "We are going to remove the first row (format row), and shuffle the data."
   ]
  },
  {
   "cell_type": "code",
   "execution_count": 3,
   "metadata": {},
   "outputs": [
    {
     "data": {
      "text/html": [
       "<div>\n",
       "<style scoped>\n",
       "    .dataframe tbody tr th:only-of-type {\n",
       "        vertical-align: middle;\n",
       "    }\n",
       "\n",
       "    .dataframe tbody tr th {\n",
       "        vertical-align: top;\n",
       "    }\n",
       "\n",
       "    .dataframe thead th {\n",
       "        text-align: right;\n",
       "    }\n",
       "</style>\n",
       "<table border=\"1\" class=\"dataframe\">\n",
       "  <thead>\n",
       "    <tr style=\"text-align: right;\">\n",
       "      <th></th>\n",
       "      <th>sepal length</th>\n",
       "      <th>sepal width</th>\n",
       "      <th>petal length</th>\n",
       "      <th>petal width</th>\n",
       "      <th>class</th>\n",
       "    </tr>\n",
       "  </thead>\n",
       "  <tbody>\n",
       "    <tr>\n",
       "      <th>131</th>\n",
       "      <td>7.4</td>\n",
       "      <td>2.8</td>\n",
       "      <td>6.1</td>\n",
       "      <td>1.9</td>\n",
       "      <td>Iris-virginica</td>\n",
       "    </tr>\n",
       "    <tr>\n",
       "      <th>4</th>\n",
       "      <td>4.6</td>\n",
       "      <td>3.1</td>\n",
       "      <td>1.5</td>\n",
       "      <td>0.2</td>\n",
       "      <td>Iris-setosa</td>\n",
       "    </tr>\n",
       "    <tr>\n",
       "      <th>20</th>\n",
       "      <td>5.1</td>\n",
       "      <td>3.8</td>\n",
       "      <td>1.5</td>\n",
       "      <td>0.3</td>\n",
       "      <td>Iris-setosa</td>\n",
       "    </tr>\n",
       "    <tr>\n",
       "      <th>61</th>\n",
       "      <td>5.0</td>\n",
       "      <td>2.0</td>\n",
       "      <td>3.5</td>\n",
       "      <td>1.0</td>\n",
       "      <td>Iris-versicolor</td>\n",
       "    </tr>\n",
       "    <tr>\n",
       "      <th>109</th>\n",
       "      <td>6.7</td>\n",
       "      <td>2.5</td>\n",
       "      <td>5.8</td>\n",
       "      <td>1.8</td>\n",
       "      <td>Iris-virginica</td>\n",
       "    </tr>\n",
       "  </tbody>\n",
       "</table>\n",
       "</div>"
      ],
      "text/plain": [
       "    sepal length sepal width petal length petal width            class\n",
       "131          7.4         2.8          6.1         1.9   Iris-virginica\n",
       "4            4.6         3.1          1.5         0.2      Iris-setosa\n",
       "20           5.1         3.8          1.5         0.3      Iris-setosa\n",
       "61           5.0         2.0          3.5         1.0  Iris-versicolor\n",
       "109          6.7         2.5          5.8         1.8   Iris-virginica"
      ]
     },
     "execution_count": 3,
     "metadata": {},
     "output_type": "execute_result"
    }
   ],
   "source": [
    "data = iris.drop(0) # Remove first row\n",
    "data = data.sample(frac = 1) # Suffle rows of the data set\n",
    "data.head()"
   ]
  },
  {
   "attachments": {},
   "cell_type": "markdown",
   "metadata": {},
   "source": [
    "Split iris into X (features) and y (labels). (We create a function to help us later with the ROC curve)"
   ]
  },
  {
   "cell_type": "code",
   "execution_count": 4,
   "metadata": {},
   "outputs": [],
   "source": [
    "def split_iris_to_X_and_y(data, label_to_remove = None):\n",
    "    new_data = data.sample(frac = 1) # Suffle rows of the data set\n",
    "    if (not(label_to_remove is None)):\n",
    "        new_data = new_data[new_data[\"class\"] != label_to_remove] # Drop class\n",
    "    X = new_data.iloc[:, 0:-1].apply(pd.to_numeric, errors='coerce')\n",
    "    y = new_data.iloc[:, -1]\n",
    "    return X, y"
   ]
  },
  {
   "cell_type": "code",
   "execution_count": 5,
   "metadata": {},
   "outputs": [
    {
     "name": "stdout",
     "output_type": "stream",
     "text": [
      "    sepal length  sepal width  petal length  petal width\n",
      "8            5.0          3.4           1.5          0.2\n",
      "30           4.7          3.2           1.6          0.2\n",
      "26           5.0          3.0           1.6          0.2\n",
      "87           6.7          3.1           4.7          1.5\n",
      "36           5.0          3.2           1.2          0.2\n",
      "8         Iris-setosa\n",
      "30        Iris-setosa\n",
      "26        Iris-setosa\n",
      "87    Iris-versicolor\n",
      "36        Iris-setosa\n",
      "Name: class, dtype: object\n"
     ]
    }
   ],
   "source": [
    "X, y = split_iris_to_X_and_y(data)\n",
    "print(X.head())\n",
    "print(y.head())"
   ]
  },
  {
   "attachments": {},
   "cell_type": "markdown",
   "metadata": {},
   "source": [
    "## b) Creation Model"
   ]
  },
  {
   "attachments": {},
   "cell_type": "markdown",
   "metadata": {},
   "source": [
    "We gonna use the **Gaussian Naive Bayes** classifier model because the features are **continuous**."
   ]
  },
  {
   "cell_type": "code",
   "execution_count": 6,
   "metadata": {},
   "outputs": [],
   "source": [
    "class MyGaussianNaiveBayes:\n",
    "    \n",
    "    # The fit method trains the model on a given dataset\n",
    "    # by computing the mean and variance of each feature for each class\n",
    "    def fit(self, X, y):\n",
    "        self.classes = np.unique(y)\n",
    "        self.learned_distribs = {}\n",
    "        self.prior_probs = {}\n",
    "\n",
    "        for label in self.classes:\n",
    "\n",
    "            # Get all X grouped by the current label\n",
    "            X_class = X[label == y]\n",
    "\n",
    "            # Calculate the prior probability for each class\n",
    "            self.prior_probs[label] = X_class.shape[0] / len(self.classes)\n",
    "\n",
    "            # Axis=0 means to calculate for each column (for each feature)\n",
    "            means = np.mean(X_class, axis=0)\n",
    "            variances = np.var(X_class, axis=0)\n",
    "\n",
    "            # Note: I called means and variances (plurial) because of the shape (4,1) -> due to the multiple features\n",
    "\n",
    "            # Store the learning distrib\n",
    "            self.learned_distribs[label]= (means, variances)\n",
    "\n",
    "        return 0\n",
    "\n",
    "    def gaussian_distribution(self, x, means, variances):\n",
    "        # Calc the probabilities for x, a simple data row\n",
    "        num = (x - means) ** 2\n",
    "        norm = 1 / np.sqrt(2 * np.pi * variances)\n",
    "        arr = norm * np.exp(-0.5 * (num / variances))\n",
    "        return np.prod(arr)\n",
    "\n",
    "\n",
    "\n",
    "    def predict(self, X):\n",
    "        predictions = []\n",
    "        probabilities = []\n",
    "\n",
    "        for x in X: # Iterate on each row\n",
    "\n",
    "            different_probabilities = {}\n",
    "            total_prob = 0\n",
    "\n",
    "            for label in self.classes: # Calc prob for each class\n",
    "                \n",
    "                means, variances = self.learned_distribs[label]\n",
    "\n",
    "                prob = self.gaussian_distribution(x, means, variances)\n",
    "                posterior_prob = prob * self.prior_probs[label]\n",
    "\n",
    "                different_probabilities[label] = posterior_prob\n",
    "                total_prob += posterior_prob\n",
    "\n",
    "            # Get the class with the highest probability by finding the maximum value in each np.array in probabilities\n",
    "            # and using the max() function to get the class associated with it.\n",
    "            prediction = max(different_probabilities, key=lambda x: different_probabilities[x])\n",
    "            predictions.append(prediction)\n",
    "\n",
    "            tmp = []\n",
    "            # Put probabilities in the following format\n",
    "            # [\n",
    "            #   0.999999, 0.000001\n",
    "            #   0.26, 0.74\n",
    "            # ]\n",
    "            for label in self.classes:\n",
    "                tmp.append(different_probabilities[label] / total_prob)\n",
    "            probabilities.append(np.array(tmp))\n",
    "\n",
    "        return np.array(predictions), np.array(probabilities)\n"
   ]
  },
  {
   "attachments": {},
   "cell_type": "markdown",
   "metadata": {},
   "source": [
    "## c) Apply Model"
   ]
  },
  {
   "attachments": {},
   "cell_type": "markdown",
   "metadata": {},
   "source": [
    "Before setting up the 10-fold cross-validation and the ROC curve, we define a function to calculate the general accuracy."
   ]
  },
  {
   "cell_type": "code",
   "execution_count": 7,
   "metadata": {},
   "outputs": [],
   "source": [
    "# Function to calculate the accuracy of the model\n",
    "def accuracy_score(y_true, y_pred):\n",
    "    # Number of correct predictions\n",
    "    correct = np.sum(y_true == y_pred)\n",
    "\n",
    "    # Total number of predictions\n",
    "    total = len(y_true)\n",
    "\n",
    "    # Accuracy\n",
    "    accuracy = correct / total\n",
    "    return accuracy"
   ]
  },
  {
   "attachments": {},
   "cell_type": "markdown",
   "metadata": {},
   "source": [
    "As we will not have answers equal to 0 or 1, we need to convert the categories into 0 and 1. Here is the function that can convert an array of categories into binary."
   ]
  },
  {
   "cell_type": "code",
   "execution_count": 8,
   "metadata": {},
   "outputs": [],
   "source": [
    "def convert_categories_into_binary(arr_str):\n",
    "    unique = np.unique(arr_str)\n",
    "    dic = { # Useless but ideal to understand\n",
    "        unique[0]: 0,\n",
    "        unique[1]: 1\n",
    "    }\n",
    "    arr_str[arr_str == unique[0]] = 0\n",
    "    arr_str[arr_str == unique[1]] = 1\n",
    "    \n",
    "    return np.asfarray(arr_str, int)\n"
   ]
  },
  {
   "attachments": {},
   "cell_type": "markdown",
   "metadata": {},
   "source": [
    "And here, we apply the previous function to do the ROC curve algorithm."
   ]
  },
  {
   "cell_type": "code",
   "execution_count": 9,
   "metadata": {},
   "outputs": [],
   "source": [
    "def plot_roc(fpr, tpr, label):\n",
    "    # Plot the TPR and FPR values to generate the ROC curve\n",
    "    title = 'ROC curve for Gaussian Naive Bayes Classifier (' + label + ')'\n",
    "    plt.figure(figsize=(6,4))\n",
    "    plt.plot(fpr, tpr, linewidth=2)\n",
    "    plt.plot([0,1], [0,1], 'k--' )\n",
    "    plt.title(title)\n",
    "    plt.xlabel('False Positive Rate')\n",
    "    plt.ylabel('True Positive Rate')\n",
    "    plt.show()"
   ]
  },
  {
   "cell_type": "code",
   "execution_count": 10,
   "metadata": {},
   "outputs": [],
   "source": [
    "def calculate_fpr_tpr(y_pred, y_true, threshold):\n",
    "    predictions = (y_pred >= threshold).astype(int)\n",
    "        \n",
    "    tp = np.sum(np.logical_and(predictions == 1, y_true == 1))\n",
    "    fn = np.sum(np.logical_and(predictions == 0, y_true == 1))\n",
    "    fp = np.sum(np.logical_and(predictions == 1, y_true == 0))\n",
    "    tn = np.sum(np.logical_and(predictions == 0, y_true == 0))\n",
    "    tpr_rate = tp / (tp + fn)\n",
    "    fpr_rate = fp / (fp + tn)\n",
    "\n",
    "    return fpr_rate, tpr_rate \n",
    "\n",
    "def roc(probabilities, y_test, label=\"\"):\n",
    "    y_bin = convert_categories_into_binary(np.copy(y_test))\n",
    "\n",
    "    thresholds = np.linspace(0,1, num=11)\n",
    "    \n",
    "    fpr = []\n",
    "    tpr = []\n",
    "    # Iterate over the thresholds\n",
    "    for threshold in thresholds:\n",
    "        fpr_tmp, tpr_tmp = calculate_fpr_tpr(probabilities, y_bin, threshold)\n",
    "        fpr.append(fpr_tmp)\n",
    "        tpr.append(tpr_tmp)\n",
    "    fpr.append(0)\n",
    "    tpr.append(0)\n",
    "    fpr = np.array(fpr)\n",
    "    tpr = np.array(tpr)\n",
    "\n",
    "    plot_roc(fpr, tpr, label)"
   ]
  },
  {
   "attachments": {},
   "cell_type": "markdown",
   "metadata": {},
   "source": [
    "Finally, we can write it !"
   ]
  },
  {
   "cell_type": "code",
   "execution_count": 13,
   "metadata": {},
   "outputs": [
    {
     "name": "stdout",
     "output_type": "stream",
     "text": [
      "General accuracy for Iris-virginica vs Iris-setosa: 1.0\n"
     ]
    },
    {
     "data": {
      "image/png": "[encoded data removed]",
      "text/plain": [
       "<Figure size 432x288 with 1 Axes>"
      ]
     },
     "metadata": {
      "needs_background": "light"
     },
     "output_type": "display_data"
    },
    {
     "name": "stdout",
     "output_type": "stream",
     "text": [
      "General accuracy for Iris-versicolor vs Iris-setosa: 1.0\n"
     ]
    },
    {
     "data": {
      "image/png": "[encoded data removed]",
      "text/plain": [
       "<Figure size 432x288 with 1 Axes>"
      ]
     },
     "metadata": {
      "needs_background": "light"
     },
     "output_type": "display_data"
    },
    {
     "name": "stdout",
     "output_type": "stream",
     "text": [
      "General accuracy for Iris-versicolor vs Iris-virginica: 0.9733333333333332\n"
     ]
    },
    {
     "data": {
      "image/png": "[encoded data removed]",
      "text/plain": [
       "<Figure size 432x288 with 1 Axes>"
      ]
     },
     "metadata": {
      "needs_background": "light"
     },
     "output_type": "display_data"
    }
   ],
   "source": [
    "# Create empty lists to store the accuracy scores\n",
    "accuracies = []\n",
    "categories = [\"Iris-versicolor\", \"Iris-virginica\", \"Iris-setosa\"]\n",
    "for category in categories:\n",
    "\n",
    "    # We drop category\n",
    "    X, y = split_iris_to_X_and_y(data, category)\n",
    "\n",
    "    # We setting up the variables needed for the 10-fold cross-validation and for the ROC curve\n",
    "\n",
    "    # Number of folds\n",
    "    n_folds = 10\n",
    "    # Calculate the size of each fold\n",
    "    fold_size = len(X) // n_folds\n",
    "    # Store the predictions\n",
    "    predictions = []\n",
    "\n",
    "    # Store all the probabilities and y_test for ROC\n",
    "    probabilities = []\n",
    "    labels = []\n",
    "\n",
    "    # 10-fold cross-validation\n",
    "    for i in range(n_folds):\n",
    "\n",
    "        # Get the training data\n",
    "        X_train = np.concatenate([X[:i * fold_size], X[(i + 1) * fold_size:]])\n",
    "        y_train = np.concatenate([y[:i * fold_size], y[(i + 1) * fold_size:]])\n",
    "\n",
    "        # Get the testing data\n",
    "        X_test = X[i * fold_size : (i + 1) * fold_size].to_numpy()\n",
    "        y_test = y[i * fold_size : (i + 1) * fold_size].to_numpy()\n",
    "\n",
    "\n",
    "        model = MyGaussianNaiveBayes()\n",
    "\n",
    "        # Train the model\n",
    "        model.fit(X_train, y_train)\n",
    "\n",
    "        # Predict the class of the testing set\n",
    "        y_pred, y_prob = model.predict(X_test)\n",
    "        predictions.append(y_pred)\n",
    "\n",
    "        # Store for ROC\n",
    "        probabilities.append(y_prob)\n",
    "        labels.append(y_test)\n",
    "\n",
    "        # Calculate the accuracy of your model\n",
    "        accuracy = accuracy_score(y_test, y_pred)\n",
    "        accuracies.append(accuracy)\n",
    "        \n",
    "\n",
    "    categories = [\"Iris-versicolor\", \"Iris-virginica\", \"Iris-setosa\"]\n",
    "    categories.remove(category)\n",
    "    label = \" vs \".join(categories)\n",
    "\n",
    "    # Print out the mean accuracy\n",
    "    print(\"General accuracy for \" + label + \":\", np.mean(accuracies))\n",
    "\n",
    "    # Plot ROC curves\n",
    "    roc(np.concatenate(probabilities)[:, 1], np.concatenate(labels), label=label)"
   ]
  }
 ],
 "metadata": {
  "kernelspec": {
   "display_name": "Python 3",
   "language": "python",
   "name": "python3"
  },
  "language_info": {
   "codemirror_mode": {
    "name": "ipython",
    "version": 3
   },
   "file_extension": ".py",
   "mimetype": "text/x-python",
   "name": "python",
   "nbconvert_exporter": "python",
   "pygments_lexer": "ipython3",
   "version": "3.8.10"
  },
  "orig_nbformat": 4,
  "vscode": {
   "interpreter": {
    "hash": "916dbcbb3f70747c44a77c7bcd40155683ae19c65e1c03b4aa3499c5328201f1"
   }
  }
 },
 "nbformat": 4,
 "nbformat_minor": 2
}
